{
  "nbformat": 4,
  "nbformat_minor": 0,
  "metadata": {
    "colab": {
      "provenance": [],
      "toc_visible": true
    },
    "kernelspec": {
      "name": "python3",
      "display_name": "Python 3"
    },
    "language_info": {
      "name": "python"
    }
  },
  "cells": [
    {
      "cell_type": "code",
      "source": [
        "from google.colab import drive\n",
        "from tensorboard import notebook\n",
        "\n"
      ],
      "metadata": {
        "id": "6eI-HcyVTTMU"
      },
      "execution_count": 1,
      "outputs": []
    },
    {
      "cell_type": "code",
      "source": [
        "drive.mount('/content/drive')"
      ],
      "metadata": {
        "id": "DHv79pKf5Qo1",
        "colab": {
          "base_uri": "https://localhost:8080/"
        },
        "outputId": "70217ab1-8b57-4363-9e44-c61951cc38a4"
      },
      "execution_count": 2,
      "outputs": [
        {
          "output_type": "stream",
          "name": "stdout",
          "text": [
            "Mounted at /content/drive\n"
          ]
        }
      ]
    },
    {
      "cell_type": "code",
      "source": [
        "notebook.list()"
      ],
      "metadata": {
        "colab": {
          "base_uri": "https://localhost:8080/"
        },
        "id": "fXzydH_a5NzD",
        "outputId": "a5953852-e67e-496f-d7fe-0b77c09a94eb"
      },
      "execution_count": 3,
      "outputs": [
        {
          "output_type": "stream",
          "name": "stdout",
          "text": [
            "No known TensorBoard instances running.\n"
          ]
        }
      ]
    },
    {
      "cell_type": "code",
      "source": [
        "%load_ext tensorboard\n"
      ],
      "metadata": {
        "id": "8UHIsi4H5WIk"
      },
      "execution_count": 4,
      "outputs": []
    },
    {
      "cell_type": "code",
      "execution_count": null,
      "metadata": {
        "id": "nrF42bpjTNlH"
      },
      "outputs": [],
      "source": [
        "%tensorboard --logdir /content/drive/MyDrive/LLM_Training/llama/results/runs"
      ]
    },
    {
      "cell_type": "code",
      "source": [
        "%tensorboard --logdir /content/drive/MyDrive/LLM_Training/mistral/results/runs --port 5005"
      ],
      "metadata": {
        "id": "4ZxwA-v2FARF"
      },
      "execution_count": null,
      "outputs": []
    }
  ]
}