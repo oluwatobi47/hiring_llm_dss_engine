{
  "nbformat": 4,
  "nbformat_minor": 0,
  "metadata": {
    "colab": {
      "provenance": []
    },
    "kernelspec": {
      "name": "python3",
      "display_name": "Python 3"
    },
    "language_info": {
      "name": "python"
    }
  },
  "cells": [
    {
      "cell_type": "markdown",
      "source": [
        "# Implementation of a pipeline converting relational models to vector embeddings in a vector database"
      ],
      "metadata": {
        "id": "_biSvPp-bGDZ"
      }
    },
    {
      "cell_type": "markdown",
      "source": [
        "## Imports"
      ],
      "metadata": {
        "id": "A4fEllykbZau"
      }
    },
    {
      "cell_type": "code",
      "source": [
        "!pip install chromadb langchain llama-index"
      ],
      "metadata": {
        "id": "n5OscINmsYyO"
      },
      "execution_count": null,
      "outputs": []
    },
    {
      "cell_type": "code",
      "source": [
        "# Required for reading word and pdf files\n",
        "!pip install docx2txt\n",
        "!pip install pypdf"
      ],
      "metadata": {
        "id": "0sGi-Q-PWSZl"
      },
      "execution_count": null,
      "outputs": []
    },
    {
      "cell_type": "code",
      "execution_count": null,
      "metadata": {
        "id": "qCRYRo0ra7d3"
      },
      "outputs": [],
      "source": [
        "from dataclasses import dataclass, asdict\n",
        "import uuid\n",
        "import datetime\n",
        "import random\n",
        "import json\n",
        "\n",
        "import os\n",
        "import glob\n",
        "from google.colab import drive\n",
        "\n",
        "import chromadb\n",
        "# from sentence_transformers import SentenceTransformer\n",
        "\n",
        "from llama_index import VectorStoreIndex, SimpleDirectoryReader, ServiceContext, load_index_from_storage\n",
        "from llama_index.vector_stores import ChromaVectorStore\n",
        "from llama_index.storage.storage_context import StorageContext\n",
        "from llama_index.embeddings.langchain import LangchainEmbedding\n",
        "\n",
        "from llama_index.embeddings import HuggingFaceEmbedding\n",
        "from IPython.display import Markdown, display\n"
      ]
    },
    {
      "cell_type": "code",
      "source": [
        "# Mount Google Drive\n",
        "drive.mount('/content/drive')"
      ],
      "metadata": {
        "colab": {
          "base_uri": "https://localhost:8080/"
        },
        "id": "Mxb2tiyC4uog",
        "outputId": "63b329d2-7bb8-43e9-8040-8c7efa1eda5e"
      },
      "execution_count": null,
      "outputs": [
        {
          "output_type": "stream",
          "name": "stdout",
          "text": [
            "Mounted at /content/drive\n"
          ]
        }
      ]
    },
    {
      "cell_type": "markdown",
      "source": [
        "## Utilities"
      ],
      "metadata": {
        "id": "l_GcEdQVbcL5"
      }
    },
    {
      "cell_type": "markdown",
      "source": [
        "### Models"
      ],
      "metadata": {
        "id": "Wxtk-4WKfL8N"
      }
    },
    {
      "cell_type": "code",
      "source": [
        "# Simple model classes for a company/organization\n",
        "@dataclass\n",
        "class Company:\n",
        "  \"\"\" Class for keeping track of basic company information \"\"\"\n",
        "  id: str\n",
        "  name: str\n",
        "  date_founded: str\n",
        "  mission_statement: str\n",
        "  vision: str\n",
        "  company_culture_statement: str\n",
        "  address: str\n",
        "\n",
        "@dataclass\n",
        "class JobDescription:\n",
        "  \"\"\" Class for keeping track of Job description information defined for a specific company\"\"\"\n",
        "  id: str\n",
        "  company_id: str # Not required for this model, a saas/paas solution may require this\n",
        "  job_title: str\n",
        "  job_description_file: str\n",
        "\n",
        "@dataclass\n",
        "class JobPost:\n",
        "  \"\"\" Class for keeping track of Job description information defined for jobs\"\"\"\n",
        "  id: str\n",
        "  created_date: str\n",
        "  title: str\n",
        "  job_description_id: str\n",
        "  active: bool\n",
        "  salary_range: str\n",
        "\n",
        "\n",
        "@dataclass\n",
        "class JobApplication:\n",
        "  \"\"\" Class for keeping track of Job description information defined for jobs\"\"\"\n",
        "  id: str\n",
        "  candidate_name: str\n",
        "  candidate_email: str\n",
        "  created_date: str\n",
        "  job_post_id: str\n",
        "  resume_link: str\n",
        "  active: bool\n"
      ],
      "metadata": {
        "id": "5EW2weF8bd8A"
      },
      "execution_count": null,
      "outputs": []
    },
    {
      "cell_type": "markdown",
      "source": [
        "### Functions"
      ],
      "metadata": {
        "id": "rpl81OIMfObj"
      }
    },
    {
      "cell_type": "code",
      "source": [
        "# Default start and end dates\n",
        "env_start_date = datetime.datetime(2023, 1, 1)\n",
        "env_end_date = datetime.datetime(2023, 12, 31)\n",
        "\n",
        "\n",
        "def generate_random_date(start_date, end_date):\n",
        "  \"\"\" Generates a random date within the specified start and end_date \"\"\"\n",
        "  # Get today's date\n",
        "  today = datetime.datetime.today()\n",
        "\n",
        "  # Calculate the date difference and generate a random number of days within the date range\n",
        "  date_diff = end_date - start_date\n",
        "  random_days = datetime.timedelta(days=random.randrange(date_diff.days))\n",
        "\n",
        "  # Generate the random date\n",
        "  random_date = start_date + random_days\n",
        "  return random_date.strftime(\"%Y-%m-%d\")\n",
        "\n",
        "\n",
        "def get_files(file_path, file_type = \"*.pdf\"):\n",
        "    \"\"\"\n",
        "    Get all PDF files from the specified file path.\n",
        "\n",
        "    Args:\n",
        "        file_path (str): The directory path containing the PDF files.\n",
        "\n",
        "    Returns:\n",
        "        list: A list containing the paths of all the PDF files in the directory.\n",
        "    \"\"\"\n",
        "    if os.path.exists(file_path):\n",
        "        return glob.glob(os.path.join(file_path, file_type))\n",
        "    else:\n",
        "        return []\n",
        "\n",
        "def extract_filename(filepath):\n",
        "    # Split the path by '/' and get the last element\n",
        "    filename = filepath.split('/')[-1]\n",
        "\n",
        "    # Remove the extension if present\n",
        "    if '.' in filename:\n",
        "        filename = filename.split('.')[0]\n",
        "\n",
        "    return filename"
      ],
      "metadata": {
        "id": "wKg13JjWfQKj"
      },
      "execution_count": null,
      "outputs": []
    },
    {
      "cell_type": "markdown",
      "source": [
        "### Data Synthesis: Deprecated (New datasource from data in DB)\n"
      ],
      "metadata": {
        "id": "RPCngJV85GRF"
      }
    },
    {
      "cell_type": "code",
      "source": [
        "# Generate synthesised data\n",
        "\n",
        "# One company profile\n",
        "# Generate 2 job descriptions\n",
        "# Generate 2 job posts\n",
        "# Generate 10 job applications\n",
        "\n",
        "# Path to docx documents containing job descriptions\n",
        "job_description_path=\"/content/drive/MyDrive/LLM_Training/dataset/job_description/test_case_1\"\n",
        "\n",
        "# Path to docx documents containing job descriptions\n",
        "application_resume_path=\"/content/drive/MyDrive/LLM_Training/dataset/resume/test_case_1\"\n",
        "\n",
        "company = Company(\n",
        "    id=uuid.uuid4().hex,\n",
        "    name=\"Company One\",\n",
        "    date_founded=\"1998-09-04\",\n",
        "    mission_statement=\"To organize the world's information and make it universally accessible and useful\",\n",
        "    vision=\"To provide access to the world's information in one click\",\n",
        "    company_culture_statement=\"A problem isn't truly solved until it's solved for all. Googlers build products that help create opportunities for everyone, whether down the street or across the globe. Bring your insight, imagination and a healthy disregard for the impossible. Bring everything that makes you unique. Together, we can build for everyone\",\n",
        "    address=\"Mountain View, California, USA\",\n",
        ")\n",
        "\n",
        "salary_ranges = [\"$60,000 - $80,000\", \"$80,000 - $100,000\", \"$100,000 - $120,000\", \"$120,000 - $140,000\", \"$140,000+\"]\n",
        "\n",
        "job_title_map = {\n",
        "    \"java_developer\": \"Java Developer\",\n",
        "    \"senior_devops_engineer\": \"Senior Devops Engineer\",\n",
        "    \"senior_management_accountant\": \"Senior Management Consultant\",\n",
        "}\n",
        "\n",
        "resume_applicant_map = {\n",
        "    \"accountant_1\": \"David Doe\",\n",
        "    \"it_professional_1\": \"John Black\",\n",
        "    \"oluwatobi_alao\": \"Oluwatobi Alao\",\n",
        "}"
      ],
      "metadata": {
        "id": "EF5Xm5mXkGiX"
      },
      "execution_count": null,
      "outputs": []
    },
    {
      "cell_type": "code",
      "source": [
        "# Generate Job Descriptions and Job Posts\n",
        "\n",
        "job_description_files = get_files(job_description_path, \"*.docx\")\n",
        "\n",
        "dep_job_descriptions = []\n",
        "dep_job_posts = []\n",
        "\n",
        "for index, jd in enumerate(job_description_files):\n",
        "  job_title = job_title_map[extract_filename(jd)]\n",
        "  job_description = JobDescription(\n",
        "      id=uuid.uuid4().hex,\n",
        "      company_id=company.id,\n",
        "      job_title=job_title if job_title else f\"Job {index}\",\n",
        "      job_descrption_file=jd)\n",
        "\n",
        "  job_post = JobPost(\n",
        "      id=index,\n",
        "      created_date=generate_random_date(env_start_date, env_end_date),\n",
        "      job_descrption_id=job_description.id,\n",
        "      title=job_title if job_title else f\"Job {index}\",\n",
        "      active=True,\n",
        "      salary_range=random.choice(salary_ranges)\n",
        "      )\n",
        "\n",
        "  dep_job_descriptions.append(job_description)\n",
        "  dep_job_posts.append(job_post)\n",
        "\n",
        "\n",
        "resume_files = get_files(application_resume_path, \"*.pdf\")\n",
        "dep_job_applications = []\n",
        "for index,resume in enumerate(resume_files):\n",
        "  dep_job_applications.append(\n",
        "      JobApplication(\n",
        "          id=uuid.uuid4().hex,\n",
        "          created_date=generate_random_date(env_start_date, env_end_date),\n",
        "          candidate_name=resume_applicant_map[extract_filename(resume)],\n",
        "          candidate_email=f\"candidate_{index}@test.com\",\n",
        "          job_post_id=index,\n",
        "          resume_link=resume\n",
        "      )\n",
        "  )"
      ],
      "metadata": {
        "id": "_Da6u0qC-yEV"
      },
      "execution_count": null,
      "outputs": []
    },
    {
      "cell_type": "code",
      "source": [
        "# Save synthesised data to json file\n",
        "\n",
        "# data = {\n",
        "#     \"company\": asdict(company),\n",
        "#     \"job_descriptions\": list(map(lambda x: asdict(x), job_descriptions)),\n",
        "#     \"job_posts\": list(map(lambda x: asdict(x), job_posts)),\n",
        "#     \"job_applications\": list(map(lambda x: asdict(x), job_applications))\n",
        "# }\n",
        "\n",
        "# with open('/content/drive/MyDrive/LLM_Training/dataset/company-data.json', 'w') as f:\n",
        "  # json.dump(data, f, indent=2)\n",
        "  # f.close()\n",
        "\n"
      ],
      "metadata": {
        "id": "sSlcYiaxJQkB"
      },
      "execution_count": null,
      "outputs": []
    },
    {
      "cell_type": "markdown",
      "source": [
        "## Data Operations: Vectorization and Persistence"
      ],
      "metadata": {
        "id": "oBXUgGAO1OVc"
      }
    },
    {
      "cell_type": "markdown",
      "source": [
        "### Vector DB: Utilities"
      ],
      "metadata": {
        "id": "7-UErVPukGRO"
      }
    },
    {
      "cell_type": "code",
      "source": [
        "def get_collection_and_vector_store(db, collection_name: str) -> tuple:\n",
        "  collection = db.get_or_create_collection(collection_name)\n",
        "  vec_store = ChromaVectorStore(chroma_collection=collection)\n",
        "  return collection, vec_store\n",
        "\n",
        "def add_document_to_vector_store(store_index: VectorStoreIndex, file_path: str, entity_ref: str, ref_name: str):\n",
        "  \"\"\"Function to create a document with required metadata and storing in vectore store with embeddings\"\"\"\n",
        "  document = SimpleDirectoryReader(input_files=[file_path]).load_data()\n",
        "  document[0].metadata['parent_obj_ref'] = entity_ref\n",
        "  document[0].metadata['ref_name'] = ref_name\n",
        "  store_index.insert(document[0])\n",
        "\n",
        "def clean_vector_db(vector_db_index, collection):\n",
        "  for id in list(map(lambda a: a['ref_doc_id'],collection.get()[\"metadatas\"])):\n",
        "    vector_db_index.delete_ref_doc(id)\n",
        "\n",
        "def get_index(vector_store, service_context):\n",
        "  return VectorStoreIndex.from_vector_store(vector_store,service_context=service_context)\n",
        "\n",
        "def showCollectionData(collection):\n",
        "  print(list(map(lambda a: a['ref_doc_id'], collection.get()[\"metadatas\"])))"
      ],
      "metadata": {
        "id": "6IWA8js9kE1j"
      },
      "execution_count": null,
      "outputs": []
    },
    {
      "cell_type": "markdown",
      "source": [
        "### Vector DB Initialization"
      ],
      "metadata": {
        "id": "T5BYJiOrW_v3"
      }
    },
    {
      "cell_type": "code",
      "source": [
        "# os.environ[\"OPENAI_API_KEY\"] = \"random\"\n",
        "# del os.environ[\"OPENAI_API_KEY\"]"
      ],
      "metadata": {
        "id": "R0CePz23xBEM"
      },
      "execution_count": null,
      "outputs": []
    },
    {
      "cell_type": "code",
      "source": [
        "#Chroma DB Client Initialization\n",
        "\n",
        "vector_db_path=\"/content/drive/MyDrive/LLM_Training/vector_db\"\n",
        "\n",
        "# initialize client, setting path to save data\n",
        "db = chromadb.PersistentClient(path=vector_db_path)\n",
        "\n",
        "\n",
        "# define embedding function\n",
        "embed_model = HuggingFaceEmbedding(model_name='sentence-transformers/all-MiniLM-L6-v2')\n",
        "\n",
        "service_context = ServiceContext.from_defaults(\n",
        "    embed_model=embed_model, llm = None\n",
        ")\n",
        "\n",
        "# assign chroma as the vector_store to the context\n",
        "jd_collection, jd_vector_store = get_collection_and_vector_store(db, \"job_description\")\n",
        "resume_collection, resume_vector_store = get_collection_and_vector_store(db, \"resume\")\n",
        "\n",
        "storage_context = StorageContext.from_defaults(vector_stores={\n",
        "    'job_description': jd_vector_store,\n",
        "    'resume': resume_vector_store\n",
        "})\n",
        "\n",
        "# load your index from stored vectors\n",
        "# index = VectorStoreIndex.from_vector_store(\n",
        "#     storage_context=storage_context,\n",
        "#     service_context=service_context\n",
        "# )\n",
        "\n",
        "jd_index = get_index(jd_vector_store, service_context)\n",
        "resume_index = get_index(resume_vector_store, service_context)"
      ],
      "metadata": {
        "colab": {
          "base_uri": "https://localhost:8080/"
        },
        "id": "x5gVv__Y1Tos",
        "outputId": "3bfc8d73-64fd-4701-d77e-70602d919085"
      },
      "execution_count": null,
      "outputs": [
        {
          "output_type": "stream",
          "name": "stdout",
          "text": [
            "LLM is explicitly disabled. Using MockLLM.\n"
          ]
        }
      ]
    },
    {
      "cell_type": "code",
      "source": [
        "showCollectionData(jd_collection)\n",
        "showCollectionData(resume_collection)\n",
        "\n",
        "# clean_vector_db(jd_index, jd_collection)"
      ],
      "metadata": {
        "id": "elQnaHZYZFPZ"
      },
      "execution_count": null,
      "outputs": []
    },
    {
      "cell_type": "markdown",
      "source": [
        "### Data Entry Simulation (Job Description and Job Application)"
      ],
      "metadata": {
        "id": "BtoOAX_zXp_j"
      }
    },
    {
      "cell_type": "code",
      "source": [
        "\n",
        "job_descriptions = [\n",
        "    {\n",
        "      \"id\": \"69453f3a-1df8-4520-9eea-8a98172593ad\",\n",
        "      \"company_id\": \"845bfe0e-538d-4c38-897e-3b30b0d3458b\",\n",
        "      \"job_title\": \"Senior Management Consultant\",\n",
        "      \"job_description_file\": \"/content/drive/MyDrive/LLM_Training/dataset/job_description/test_case_1/senior_management_accountant.docx\",\n",
        "      \"created_date\": \"2023-12-05T12:55:55.789+00:00\"\n",
        "    },\n",
        "    {\n",
        "      \"id\": \"a52fd3b9-e6e8-4956-b716-df8fe9e307ca\",\n",
        "      \"company_id\": \"845bfe0e-538d-4c38-897e-3b30b0d3458b\",\n",
        "      \"job_title\": \"Senior Devops Engineer\",\n",
        "      \"job_description_file\": \"/content/drive/MyDrive/LLM_Training/dataset/job_description/test_case_1/senior_devops_engineer.docx\",\n",
        "      \"created_date\": \"2023-12-05T12:56:30.309+00:00\"\n",
        "    },\n",
        "    {\n",
        "      \"id\": \"cbb45246-6225-42fb-910d-cba3786fc164\",\n",
        "      \"company_id\": \"845bfe0e-538d-4c38-897e-3b30b0d3458b\",\n",
        "      \"job_title\": \"Java Developer\",\n",
        "      \"job_description_file\": \"/content/drive/MyDrive/LLM_Training/dataset/job_description/test_case_1/java_developer.docx\",\n",
        "      \"created_date\": \"2023-12-05T12:56:55.629+00:00\"\n",
        "    }\n",
        "]\n",
        "\n",
        "# Add job description document to vector store\n",
        "for jd in job_descriptions:\n",
        "  doc = add_document_to_vector_store(\n",
        "      jd_index,\n",
        "      file_path=jd['job_description_file'],\n",
        "      ref_name=jd['job_title'],\n",
        "      entity_ref=jd['id'])\n"
      ],
      "metadata": {
        "id": "2IP_ZZbfhNTZ"
      },
      "execution_count": null,
      "outputs": []
    },
    {
      "cell_type": "code",
      "source": [
        "\n",
        "job_applications = [\n",
        "    {\n",
        "      \"id\": \"516273bb-ec25-4cf2-8fb6-582cca99d9c9\",\n",
        "      \"candidate_email\": \"candidate_0@test.com\",\n",
        "      \"candidate_name\": \"David Doe\",\n",
        "      \"job_post_id\": \"065a1780-b015-496d-8cc1-5bb98a91f987\",\n",
        "      \"job_post_title\": \"Senior Management Consultant\",\n",
        "      \"active\": True,\n",
        "      \"created_date\": \"2023-10-23T00:00:00.000+00:00\",\n",
        "      \"resume_link\": \"/content/drive/MyDrive/LLM_Training/dataset/resume/test_case_1/accountant_1.pdf\"\n",
        "    },\n",
        "    {\n",
        "      \"id\": \"c8d6d3ee-da5d-4d57-a3c6-18f5ca20737c\",\n",
        "      \"candidate_email\": \"candidate_2@test.com\",\n",
        "      \"candidate_name\": \"Oluwatobi Alao\",\n",
        "      \"job_post_id\": \"897e04c5-42d7-4d4b-840a-335b1bf3a4e5\",\n",
        "      \"job_post_title\": \"Java Developer\",\n",
        "      \"active\": True,\n",
        "      \"created_date\": \"2023-08-22T00:00:00.000+00:00\",\n",
        "      \"resume_link\": \"/content/drive/MyDrive/LLM_Training/dataset/resume/test_case_1/oluwatobi_alao.pdf\"\n",
        "    }\n",
        "]\n",
        "\n",
        "# Add job description document to vector store\n",
        "for application in job_applications:\n",
        "  doc = add_document_to_vector_store(\n",
        "      resume_index,\n",
        "      file_path=application['resume_link'],\n",
        "      ref_name=f\"{application['job_post_id']}_{application['candidate_name']}\",\n",
        "      entity_ref=application['id'])"
      ],
      "metadata": {
        "id": "4Ix8iINRIhDJ"
      },
      "execution_count": null,
      "outputs": []
    }
  ]
}